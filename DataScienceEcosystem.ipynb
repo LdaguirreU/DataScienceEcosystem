{
 "cells": [
  {
   "cell_type": "markdown",
   "id": "50dfbf5e",
   "metadata": {},
   "source": [
    "# Data Science Tools and Ecosystem"
   ]
  },
  {
   "cell_type": "markdown",
   "id": "3352ff08",
   "metadata": {},
   "source": [
    "In this notebook, Data Science Tools and Ecosystem are summarized"
   ]
  },
  {
   "cell_type": "markdown",
   "id": "197e4a58",
   "metadata": {},
   "source": [
    "**Objectives:**\n",
    "    \n",
    "* List popular languages for Data Science\n",
    "* List commonly used libraries in Data Science\n",
    "* List commonly used Data Science Tools\n",
    "* List examples of arithmetic expressions in Python\n"
   ]
  },
  {
   "cell_type": "markdown",
   "id": "074605da",
   "metadata": {},
   "source": [
    "Some of the popular languages that Data Scientists use are:\n",
    "    \n",
    "    1.Python\n",
    "    2.R\n",
    "    3.Julia"
   ]
  },
  {
   "cell_type": "markdown",
   "id": "578e2506",
   "metadata": {},
   "source": [
    "Some of the commonly used libraries used by Data Scientists include:\n",
    "    \n",
    "    1.NumPy\n",
    "    2.Pandas\n",
    "    3.TensorFlow\n",
    "    4.SciPy\n",
    "    5.Keras\n",
    "    6.PyTorch"
   ]
  },
  {
   "cell_type": "markdown",
   "id": "616d4cee",
   "metadata": {},
   "source": [
    "|Data Science Tools|\n",
    "|------------------|\n",
    "|RStudio           |\n",
    "|Jupyter      |\n",
    "|Apache Spark        |"
   ]
  },
  {
   "cell_type": "markdown",
   "id": "0cf5f220",
   "metadata": {},
   "source": [
    "### Below are a few examples of evaluating arithmetic expressions in Python"
   ]
  },
  {
   "cell_type": "code",
   "execution_count": 5,
   "id": "957f4536",
   "metadata": {},
   "outputs": [
    {
     "data": {
      "text/plain": [
       "17"
      ]
     },
     "execution_count": 5,
     "metadata": {},
     "output_type": "execute_result"
    }
   ],
   "source": [
    "# This is a simple arithmetic expression to multiply then add integers.\n",
    "(3*4) +5"
   ]
  },
  {
   "cell_type": "code",
   "execution_count": 6,
   "id": "a1270c23",
   "metadata": {},
   "outputs": [
    {
     "data": {
      "text/plain": [
       "3.3333333333333335"
      ]
     },
     "execution_count": 6,
     "metadata": {},
     "output_type": "execute_result"
    }
   ],
   "source": [
    "# This will convert 200 minutes to hours by dividing by 60.\n",
    "200/60"
   ]
  },
  {
   "cell_type": "markdown",
   "id": "e27ea81c",
   "metadata": {},
   "source": [
    "## Author\n",
    "Luis Daniel Aguirre"
   ]
  }
 ],
 "metadata": {
  "kernelspec": {
   "display_name": "Python 3 (ipykernel)",
   "language": "python",
   "name": "python3"
  },
  "language_info": {
   "codemirror_mode": {
    "name": "ipython",
    "version": 3
   },
   "file_extension": ".py",
   "mimetype": "text/x-python",
   "name": "python",
   "nbconvert_exporter": "python",
   "pygments_lexer": "ipython3",
   "version": "3.11.4"
  }
 },
 "nbformat": 4,
 "nbformat_minor": 5
}
